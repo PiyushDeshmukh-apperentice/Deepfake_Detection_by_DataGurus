{
  "nbformat": 4,
  "nbformat_minor": 0,
  "metadata": {
    "colab": {
      "provenance": [],
      "gpuType": "T4"
    },
    "kernelspec": {
      "name": "python3",
      "display_name": "Python 3"
    },
    "language_info": {
      "name": "python"
    },
    "accelerator": "GPU"
  },
  "cells": [
    {
      "cell_type": "markdown",
      "source": [
        "Mount Drive on Google Colab"
      ],
      "metadata": {
        "id": "v3P76c6dTtoO"
      }
    },
    {
      "cell_type": "code",
      "source": [
        "from google.colab import drive\n",
        "drive.mount('/content/drive')"
      ],
      "metadata": {
        "id": "MHLXU2qsQcLa",
        "outputId": "f0c2704b-5db5-4d71-84e5-d0faa7aa54cd",
        "colab": {
          "base_uri": "https://localhost:8080/"
        }
      },
      "execution_count": null,
      "outputs": [
        {
          "output_type": "stream",
          "name": "stdout",
          "text": [
            "Mounted at /content/drive\n"
          ]
        }
      ]
    },
    {
      "cell_type": "markdown",
      "source": [
        "Install necessary modules\n",
        "\n",
        "Tensorflow for CNN model\n",
        "\n",
        "openCV for viewing video\n",
        "\n",
        "MTCNN for viewing faces from frames"
      ],
      "metadata": {
        "id": "4uWUT9UfT35h"
      }
    },
    {
      "cell_type": "code",
      "execution_count": null,
      "metadata": {
        "colab": {
          "base_uri": "https://localhost:8080/"
        },
        "id": "c0uFNPSAT-Qq",
        "outputId": "24b581a6-fed7-4f28-94ec-b444d418eae6"
      },
      "outputs": [
        {
          "output_type": "stream",
          "name": "stdout",
          "text": [
            "Requirement already satisfied: tensorflow in /usr/local/lib/python3.10/dist-packages (2.15.0)\n",
            "Requirement already satisfied: opencv-python-headless in /usr/local/lib/python3.10/dist-packages (4.10.0.82)\n",
            "Collecting mtcnn\n",
            "  Downloading mtcnn-0.1.1-py3-none-any.whl (2.3 MB)\n",
            "\u001b[2K     \u001b[90m━━━━━━━━━━━━━━━━━━━━━━━━━━━━━━━━━━━━━━━━\u001b[0m \u001b[32m2.3/2.3 MB\u001b[0m \u001b[31m27.3 MB/s\u001b[0m eta \u001b[36m0:00:00\u001b[0m\n",
            "\u001b[?25hRequirement already satisfied: absl-py>=1.0.0 in /usr/local/lib/python3.10/dist-packages (from tensorflow) (1.4.0)\n",
            "Requirement already satisfied: astunparse>=1.6.0 in /usr/local/lib/python3.10/dist-packages (from tensorflow) (1.6.3)\n",
            "Requirement already satisfied: flatbuffers>=23.5.26 in /usr/local/lib/python3.10/dist-packages (from tensorflow) (24.3.25)\n",
            "Requirement already satisfied: gast!=0.5.0,!=0.5.1,!=0.5.2,>=0.2.1 in /usr/local/lib/python3.10/dist-packages (from tensorflow) (0.5.4)\n",
            "Requirement already satisfied: google-pasta>=0.1.1 in /usr/local/lib/python3.10/dist-packages (from tensorflow) (0.2.0)\n",
            "Requirement already satisfied: h5py>=2.9.0 in /usr/local/lib/python3.10/dist-packages (from tensorflow) (3.9.0)\n",
            "Requirement already satisfied: libclang>=13.0.0 in /usr/local/lib/python3.10/dist-packages (from tensorflow) (18.1.1)\n",
            "Requirement already satisfied: ml-dtypes~=0.2.0 in /usr/local/lib/python3.10/dist-packages (from tensorflow) (0.2.0)\n",
            "Requirement already satisfied: numpy<2.0.0,>=1.23.5 in /usr/local/lib/python3.10/dist-packages (from tensorflow) (1.25.2)\n",
            "Requirement already satisfied: opt-einsum>=2.3.2 in /usr/local/lib/python3.10/dist-packages (from tensorflow) (3.3.0)\n",
            "Requirement already satisfied: packaging in /usr/local/lib/python3.10/dist-packages (from tensorflow) (24.1)\n",
            "Requirement already satisfied: protobuf!=4.21.0,!=4.21.1,!=4.21.2,!=4.21.3,!=4.21.4,!=4.21.5,<5.0.0dev,>=3.20.3 in /usr/local/lib/python3.10/dist-packages (from tensorflow) (3.20.3)\n",
            "Requirement already satisfied: setuptools in /usr/local/lib/python3.10/dist-packages (from tensorflow) (67.7.2)\n",
            "Requirement already satisfied: six>=1.12.0 in /usr/local/lib/python3.10/dist-packages (from tensorflow) (1.16.0)\n",
            "Requirement already satisfied: termcolor>=1.1.0 in /usr/local/lib/python3.10/dist-packages (from tensorflow) (2.4.0)\n",
            "Requirement already satisfied: typing-extensions>=3.6.6 in /usr/local/lib/python3.10/dist-packages (from tensorflow) (4.12.2)\n",
            "Requirement already satisfied: wrapt<1.15,>=1.11.0 in /usr/local/lib/python3.10/dist-packages (from tensorflow) (1.14.1)\n",
            "Requirement already satisfied: tensorflow-io-gcs-filesystem>=0.23.1 in /usr/local/lib/python3.10/dist-packages (from tensorflow) (0.37.0)\n",
            "Requirement already satisfied: grpcio<2.0,>=1.24.3 in /usr/local/lib/python3.10/dist-packages (from tensorflow) (1.64.1)\n",
            "Requirement already satisfied: tensorboard<2.16,>=2.15 in /usr/local/lib/python3.10/dist-packages (from tensorflow) (2.15.2)\n",
            "Requirement already satisfied: tensorflow-estimator<2.16,>=2.15.0 in /usr/local/lib/python3.10/dist-packages (from tensorflow) (2.15.0)\n",
            "Requirement already satisfied: keras<2.16,>=2.15.0 in /usr/local/lib/python3.10/dist-packages (from tensorflow) (2.15.0)\n",
            "Requirement already satisfied: opencv-python>=4.1.0 in /usr/local/lib/python3.10/dist-packages (from mtcnn) (4.8.0.76)\n",
            "Requirement already satisfied: wheel<1.0,>=0.23.0 in /usr/local/lib/python3.10/dist-packages (from astunparse>=1.6.0->tensorflow) (0.43.0)\n",
            "Requirement already satisfied: google-auth<3,>=1.6.3 in /usr/local/lib/python3.10/dist-packages (from tensorboard<2.16,>=2.15->tensorflow) (2.27.0)\n",
            "Requirement already satisfied: google-auth-oauthlib<2,>=0.5 in /usr/local/lib/python3.10/dist-packages (from tensorboard<2.16,>=2.15->tensorflow) (1.2.0)\n",
            "Requirement already satisfied: markdown>=2.6.8 in /usr/local/lib/python3.10/dist-packages (from tensorboard<2.16,>=2.15->tensorflow) (3.6)\n",
            "Requirement already satisfied: requests<3,>=2.21.0 in /usr/local/lib/python3.10/dist-packages (from tensorboard<2.16,>=2.15->tensorflow) (2.31.0)\n",
            "Requirement already satisfied: tensorboard-data-server<0.8.0,>=0.7.0 in /usr/local/lib/python3.10/dist-packages (from tensorboard<2.16,>=2.15->tensorflow) (0.7.2)\n",
            "Requirement already satisfied: werkzeug>=1.0.1 in /usr/local/lib/python3.10/dist-packages (from tensorboard<2.16,>=2.15->tensorflow) (3.0.3)\n",
            "Requirement already satisfied: cachetools<6.0,>=2.0.0 in /usr/local/lib/python3.10/dist-packages (from google-auth<3,>=1.6.3->tensorboard<2.16,>=2.15->tensorflow) (5.3.3)\n",
            "Requirement already satisfied: pyasn1-modules>=0.2.1 in /usr/local/lib/python3.10/dist-packages (from google-auth<3,>=1.6.3->tensorboard<2.16,>=2.15->tensorflow) (0.4.0)\n",
            "Requirement already satisfied: rsa<5,>=3.1.4 in /usr/local/lib/python3.10/dist-packages (from google-auth<3,>=1.6.3->tensorboard<2.16,>=2.15->tensorflow) (4.9)\n",
            "Requirement already satisfied: requests-oauthlib>=0.7.0 in /usr/local/lib/python3.10/dist-packages (from google-auth-oauthlib<2,>=0.5->tensorboard<2.16,>=2.15->tensorflow) (1.3.1)\n",
            "Requirement already satisfied: charset-normalizer<4,>=2 in /usr/local/lib/python3.10/dist-packages (from requests<3,>=2.21.0->tensorboard<2.16,>=2.15->tensorflow) (3.3.2)\n",
            "Requirement already satisfied: idna<4,>=2.5 in /usr/local/lib/python3.10/dist-packages (from requests<3,>=2.21.0->tensorboard<2.16,>=2.15->tensorflow) (3.7)\n",
            "Requirement already satisfied: urllib3<3,>=1.21.1 in /usr/local/lib/python3.10/dist-packages (from requests<3,>=2.21.0->tensorboard<2.16,>=2.15->tensorflow) (2.0.7)\n",
            "Requirement already satisfied: certifi>=2017.4.17 in /usr/local/lib/python3.10/dist-packages (from requests<3,>=2.21.0->tensorboard<2.16,>=2.15->tensorflow) (2024.6.2)\n",
            "Requirement already satisfied: MarkupSafe>=2.1.1 in /usr/local/lib/python3.10/dist-packages (from werkzeug>=1.0.1->tensorboard<2.16,>=2.15->tensorflow) (2.1.5)\n",
            "Requirement already satisfied: pyasn1<0.7.0,>=0.4.6 in /usr/local/lib/python3.10/dist-packages (from pyasn1-modules>=0.2.1->google-auth<3,>=1.6.3->tensorboard<2.16,>=2.15->tensorflow) (0.6.0)\n",
            "Requirement already satisfied: oauthlib>=3.0.0 in /usr/local/lib/python3.10/dist-packages (from requests-oauthlib>=0.7.0->google-auth-oauthlib<2,>=0.5->tensorboard<2.16,>=2.15->tensorflow) (3.2.2)\n",
            "Installing collected packages: mtcnn\n",
            "Successfully installed mtcnn-0.1.1\n"
          ]
        }
      ],
      "source": [
        "pip install tensorflow opencv-python-headless mtcnn\n"
      ]
    },
    {
      "cell_type": "markdown",
      "source": [
        "Import necessary modules"
      ],
      "metadata": {
        "id": "2Y8gK0PmUcUW"
      }
    },
    {
      "cell_type": "code",
      "source": [
        "import numpy as np # Linear Algebra\n",
        "import tensorflow as tf # Python framework\n",
        "from sklearn.model_selection import train_test_split # Training the model\n",
        "import os # Accesing directories having images\n",
        "import cv2 # Extracting features from images\n",
        "from mtcnn import MTCNN # Face detection\n",
        "#from PIL import image\n",
        "import io"
      ],
      "metadata": {
        "id": "67FkUNOAUJkx"
      },
      "execution_count": null,
      "outputs": []
    },
    {
      "cell_type": "markdown",
      "source": [
        "Loading Datasets"
      ],
      "metadata": {
        "id": "2tLkJbBYZafy"
      }
    },
    {
      "cell_type": "code",
      "source": [
        "def load_images_from_folder(folder, max_images=750, target_size=(224, 224)):\n",
        "    \"\"\"\n",
        "    {\n",
        "      This function loads images from a folder and resizes them to the specified target size\n",
        "\n",
        "      Args :\n",
        "          folder : The path to the folder containing the images\n",
        "          max_images : The maximum number of images to load\n",
        "          target_size : The target size of the resized images\n",
        "\n",
        "      Returns :\n",
        "          images : A list of resized images\n",
        "    }\n",
        "    \"\"\"\n",
        "    images = []\n",
        "    for i, filename in enumerate(os.listdir(folder)):\n",
        "        if i >= max_images:\n",
        "            break\n",
        "        img = cv2.imread(os.path.join(folder, filename))\n",
        "        if img is not None:\n",
        "            img = cv2.resize(img, target_size)  # Resize image to target size\n",
        "            images.append(img)\n",
        "    return images"
      ],
      "metadata": {
        "id": "7AErG4VWU7hu"
      },
      "execution_count": null,
      "outputs": []
    },
    {
      "cell_type": "code",
      "source": [
        "# Function to load and preprocess dataset\n",
        "def load_dataset(dataset_path, max_images_per_class=750, target_size=(224, 224)):\n",
        "    \"\"\"\n",
        "    {\n",
        "      This function loads real and fake images from the specified folder and labels them as real or fake\n",
        "\n",
        "      Args :\n",
        "          dataset_path : The path to the folder containing the images\n",
        "          max_images_per_class : The maximum number of images per class\n",
        "          target_size : The target size of the resized images\n",
        "\n",
        "      Returns : Numpy arrays of images and labels\n",
        "    }\n",
        "    \"\"\"\n",
        "    # Load real and fake images\n",
        "    real_images = load_images_from_folder(os.path.join(dataset_path, 'Real'), max_images=max_images_per_class, target_size=target_size)\n",
        "    fake_images = load_images_from_folder(os.path.join(dataset_path, 'Fake'), max_images=max_images_per_class, target_size=target_size)\n",
        "\n",
        "    real_labels = [0] * len(real_images)\n",
        "    fake_labels = [1] * len(fake_images)\n",
        "\n",
        "    images = real_images + fake_images\n",
        "    labels = real_labels + fake_labels\n",
        "    #print(np.array(images))\n",
        "    #print(np.array(labels))\n",
        "    return np.array(images), np.array(labels)"
      ],
      "metadata": {
        "id": "9W-zlVLTUkjI"
      },
      "execution_count": null,
      "outputs": []
    },
    {
      "cell_type": "markdown",
      "source": [
        "Loading Dataset from google drive"
      ],
      "metadata": {
        "id": "_zkVNKanuzVa"
      }
    },
    {
      "cell_type": "code",
      "source": [
        "dataset_path = '/content/drive/MyDrive/Dataset for Deepfake'\n",
        "images, labels = load_dataset(dataset_path, max_images_per_class=750, target_size=(224, 224))"
      ],
      "metadata": {
        "id": "IKOouMIvVRtS"
      },
      "execution_count": null,
      "outputs": []
    },
    {
      "cell_type": "markdown",
      "source": [
        "Test Train Split"
      ],
      "metadata": {
        "id": "OczwWQdeZ4IF"
      }
    },
    {
      "cell_type": "code",
      "source": [
        "# Split dataset into training and testing sets\n",
        "X_train, X_test, y_train, y_test = train_test_split(images, labels, test_size=0.2, random_state=42)"
      ],
      "metadata": {
        "id": "UBbUyU-lYiqz"
      },
      "execution_count": null,
      "outputs": []
    },
    {
      "cell_type": "markdown",
      "source": [
        "Normalization of images"
      ],
      "metadata": {
        "id": "MSxDxSNUaJO9"
      }
    },
    {
      "cell_type": "code",
      "source": [
        "# Function to preprocess images\n",
        "def preprocess_images(images):\n",
        "    \"\"\"\n",
        "    {\n",
        "      This function resizes the pixels of the images in the range 0 to 1\n",
        "\n",
        "      Args :\n",
        "          images : The images to be resized\n",
        "\n",
        "      Returns :\n",
        "          image : normalised image with pixel size ranging from 0 to 1\n",
        "    }\n",
        "    \"\"\"\n",
        "    # Normalize pixel values to [0, 1]\n",
        "    normalized_images = images / 255.0\n",
        "    return normalized_images"
      ],
      "metadata": {
        "id": "5BoBj_XlUaqr"
      },
      "execution_count": null,
      "outputs": []
    },
    {
      "cell_type": "code",
      "source": [
        "# Preprocess images\n",
        "X_train_preprocessed = preprocess_images(X_train)\n",
        "X_test_preprocessed = preprocess_images(X_test)"
      ],
      "metadata": {
        "id": "xT3M1X0lYoch"
      },
      "execution_count": null,
      "outputs": []
    },
    {
      "cell_type": "markdown",
      "source": [
        "Building CNN model"
      ],
      "metadata": {
        "id": "mRu7OAuiaduT"
      }
    },
    {
      "cell_type": "code",
      "source": [
        "# Function to build CNN model\n",
        "def build_model(input_shape):\n",
        "    \"\"\"\n",
        "    {\n",
        "      This function builds the CNN (Convulational Neural Networks) model\n",
        "\n",
        "      Args :\n",
        "          input_shape : The shape of the input images\n",
        "\n",
        "      Returns :\n",
        "          model : The CNN model\n",
        "    }\n",
        "    \"\"\"\n",
        "    model = tf.keras.Sequential([\n",
        "        tf.keras.layers.Conv2D(32, (3, 3), activation='relu', input_shape=input_shape),\n",
        "        tf.keras.layers.MaxPooling2D((2, 2)),\n",
        "        tf.keras.layers.Conv2D(64, (3, 3), activation='relu'),\n",
        "        tf.keras.layers.MaxPooling2D((2, 2)),\n",
        "        tf.keras.layers.Conv2D(128, (3, 3), activation='relu'),\n",
        "        tf.keras.layers.MaxPooling2D((2, 2)),\n",
        "        tf.keras.layers.Flatten(),\n",
        "        tf.keras.layers.Dense(128, activation='relu'),\n",
        "        tf.keras.layers.Dropout(0.5),\n",
        "        tf.keras.layers.Dense(1, activation='sigmoid')  # Output layer: binary classification (real or fake)\n",
        "    ])\n",
        "\n",
        "    # Compile the model\n",
        "    model.compile(optimizer='adam',\n",
        "                  loss='binary_crossentropy',\n",
        "                  metrics=['accuracy', tf.keras.metrics.Precision(), tf.keras.metrics.Recall()])\n",
        "\n",
        "    return model"
      ],
      "metadata": {
        "id": "YHtx_X5UUger"
      },
      "execution_count": null,
      "outputs": []
    },
    {
      "cell_type": "code",
      "source": [
        "# Build and train the model\n",
        "\n",
        "input_shape = X_train_preprocessed[0].shape\n",
        "model = build_model(input_shape)\n",
        "\n",
        "hist = model.fit(X_train_preprocessed, y_train, epochs=10, batch_size=32, validation_data=(X_test_preprocessed, y_test))\n"
      ],
      "metadata": {
        "colab": {
          "base_uri": "https://localhost:8080/",
          "height": 420
        },
        "id": "hbjzwG4CYr9t",
        "outputId": "27afcd30-9a0f-43e9-da1d-62b90c58aa0f"
      },
      "execution_count": null,
      "outputs": [
        {
          "output_type": "stream",
          "name": "stdout",
          "text": [
            "Epoch 1/10\n",
            "38/38 [==============================] - 14s 112ms/step - loss: 1.0581 - accuracy: 0.5658 - precision: 0.5758 - recall: 0.4782 - val_loss: 0.6220 - val_accuracy: 0.7267 - val_precision: 0.6875 - val_recall: 0.8571\n",
            "Epoch 2/10\n",
            "38/38 [==============================] - 2s 55ms/step - loss: 0.5488 - accuracy: 0.7333 - precision: 0.7404 - recall: 0.7131 - val_loss: 0.4292 - val_accuracy: 0.8300 - val_precision: 0.8872 - val_recall: 0.7662\n",
            "Epoch 3/10\n",
            "38/38 [==============================] - 2s 62ms/step - loss: 0.4230 - accuracy: 0.8158 - precision: 0.8194 - recall: 0.8070 - val_loss: 0.4437 - val_accuracy: 0.8033 - val_precision: 0.9204 - val_recall: 0.6753\n",
            "Epoch 4/10\n",
            "38/38 [==============================] - 2s 62ms/step - loss: 0.3863 - accuracy: 0.8242 - precision: 0.8371 - recall: 0.8020 - val_loss: 0.4322 - val_accuracy: 0.8200 - val_precision: 0.9167 - val_recall: 0.7143\n",
            "Epoch 5/10\n",
            "38/38 [==============================] - 3s 68ms/step - loss: 0.3191 - accuracy: 0.8708 - precision: 0.8808 - recall: 0.8557 - val_loss: 0.4000 - val_accuracy: 0.8433 - val_precision: 0.8905 - val_recall: 0.7922\n",
            "Epoch 6/10\n",
            "38/38 [==============================] - 2s 60ms/step - loss: 0.2752 - accuracy: 0.8900 - precision: 0.9028 - recall: 0.8725 - val_loss: 0.4124 - val_accuracy: 0.8500 - val_precision: 0.8385 - val_recall: 0.8766\n",
            "Epoch 7/10\n",
            "38/38 [==============================] - 2s 56ms/step - loss: 0.2608 - accuracy: 0.8942 - precision: 0.9036 - recall: 0.8809 - val_loss: 0.4288 - val_accuracy: 0.8467 - val_precision: 0.8375 - val_recall: 0.8701\n",
            "Epoch 8/10\n",
            "38/38 [==============================] - 2s 58ms/step - loss: 0.2115 - accuracy: 0.9217 - precision: 0.9343 - recall: 0.9060 - val_loss: 0.4710 - val_accuracy: 0.8500 - val_precision: 0.8385 - val_recall: 0.8766\n",
            "Epoch 9/10\n",
            "38/38 [==============================] - 2s 58ms/step - loss: 0.1956 - accuracy: 0.9267 - precision: 0.9364 - recall: 0.9144 - val_loss: 0.5173 - val_accuracy: 0.8333 - val_precision: 0.8250 - val_recall: 0.8571\n",
            "Epoch 10/10\n",
            "38/38 [==============================] - 2s 58ms/step - loss: 0.1747 - accuracy: 0.9242 - precision: 0.9346 - recall: 0.9111 - val_loss: 0.4667 - val_accuracy: 0.8533 - val_precision: 0.8716 - val_recall: 0.8377\n"
          ]
        },
        {
          "output_type": "execute_result",
          "data": {
            "text/plain": [
              "'\\n# Build and train the model\\ninput_shape = X_train_preprocessed[0].shape\\nmodel = build_model(input_shape)\\ntrain_generator = flow(X_train_preprocessed, y_train, batch_size=32)\\nmodel.fit(train_generator, epochs=10, validation_data=(X_test_preprocessed, y_test))\\n'"
            ],
            "application/vnd.google.colaboratory.intrinsic+json": {
              "type": "string"
            }
          },
          "metadata": {},
          "execution_count": 13
        }
      ]
    },
    {
      "cell_type": "markdown",
      "source": [
        "Result Analysis"
      ],
      "metadata": {
        "id": "Ec8NJXili_Oo"
      }
    },
    {
      "cell_type": "code",
      "source": [
        "import matplotlib.pyplot as plt\n",
        "\n",
        "# Plot training & validation accuracy values\n",
        "plt.figure(figsize=(12, 4))\n",
        "\n",
        "plt.subplot(1, 2, 1)\n",
        "plt.plot(hist.history['accuracy'], label='Train Accuracy')\n",
        "plt.plot(hist.history['val_accuracy'], label='Validation Accuracy')\n",
        "plt.title('Model Accuracy')\n",
        "plt.ylabel('Accuracy')\n",
        "plt.xlabel('Epoch')\n",
        "plt.legend(loc='upper left')\n"
      ],
      "metadata": {
        "colab": {
          "base_uri": "https://localhost:8080/",
          "height": 427
        },
        "id": "595GLsvTkSzN",
        "outputId": "f95f2987-8a16-4f47-a115-dad4dc04cd4f"
      },
      "execution_count": null,
      "outputs": [
        {
          "output_type": "execute_result",
          "data": {
            "text/plain": [
              "<matplotlib.legend.Legend at 0x7aed70067a30>"
            ]
          },
          "metadata": {},
          "execution_count": 14
        },
        {
          "output_type": "display_data",
          "data": {
            "text/plain": [
              "<Figure size 1200x400 with 1 Axes>"
            ],
            "image/png": "[encoded data removed]"
          },
          "metadata": {}
        }
      ]
    },
    {
      "cell_type": "markdown",
      "source": [
        "The Graph above shows :\n",
        "\n",
        "Train Accuracy (blue): This line shows how the accuracy of the model on the training data evolves over the epochs.\n",
        "\n",
        "Validation Accuracy (orange): This line shows how the accuracy of the model on the validation data evolves over the epochs.\n",
        "\n",
        "Both training and validation accuracy are increasing and plateauing, it suggests the model is learning well and converging."
      ],
      "metadata": {
        "id": "rolGx8rFor5z"
      }
    },
    {
      "cell_type": "code",
      "source": [
        "import numpy as np\n",
        "from sklearn.metrics import confusion_matrix\n",
        "import seaborn as sns\n",
        "import matplotlib.pyplot as plt\n",
        "\n",
        "# Get predictions\n",
        "y_pred = (model.predict(X_test_preprocessed) > 0.5).astype(\"int32\")\n",
        "\n",
        "# Compute confusion matrix\n",
        "cm = confusion_matrix(y_test, y_pred)\n",
        "\n",
        "# Plot confusion matrix\n",
        "plt.figure(figsize=(10, 6))\n",
        "sns.heatmap(cm, annot=True, fmt=\"d\", cmap='Blues', xticklabels=['Real', 'Fake'], yticklabels=['Real', 'Fake'])\n",
        "plt.title('Confusion Matrix')\n",
        "plt.ylabel('Actual Label')\n",
        "plt.xlabel('Predicted Label')\n",
        "plt.show()\n"
      ],
      "metadata": {
        "colab": {
          "base_uri": "https://localhost:8080/",
          "height": 581
        },
        "id": "r01iplz3mX-h",
        "outputId": "812bf179-70b8-47ff-c757-38b4bc0ddd01"
      },
      "execution_count": null,
      "outputs": [
        {
          "output_type": "stream",
          "name": "stdout",
          "text": [
            "10/10 [==============================] - 0s 25ms/step\n"
          ]
        },
        {
          "output_type": "display_data",
          "data": {
            "text/plain": [
              "<Figure size 1000x600 with 2 Axes>"
            ],
            "image/png": "[encoded data removed]"
          },
          "metadata": {}
        }
      ]
    },
    {
      "cell_type": "code",
      "source": [
        "from sklearn.metrics import classification_report\n",
        "\n",
        "# Get classification report\n",
        "report = classification_report(y_test, y_pred)\n",
        "\n",
        "# Print classification report\n",
        "print(report)"
      ],
      "metadata": {
        "colab": {
          "base_uri": "https://localhost:8080/"
        },
        "id": "jnLouX5V6vvn",
        "outputId": "7e374b11-fe59-4896-9c90-5681e7553709"
      },
      "execution_count": null,
      "outputs": [
        {
          "output_type": "stream",
          "name": "stdout",
          "text": [
            "              precision    recall  f1-score   support\n",
            "\n",
            "           0       0.84      0.87      0.85       146\n",
            "           1       0.87      0.84      0.85       154\n",
            "\n",
            "    accuracy                           0.85       300\n",
            "   macro avg       0.85      0.85      0.85       300\n",
            "weighted avg       0.85      0.85      0.85       300\n",
            "\n"
          ]
        }
      ]
    },
    {
      "cell_type": "markdown",
      "source": [
        "### Metrics Explanation:\n",
        "\n",
        "#### Class 0 (Real)\n",
        "- **Precision (0.84)**: Of all the images predicted as real, 84% were actually real.\n",
        "- **Recall (0.87)**: Of all the real images, 87% were correctly identified as real.\n",
        "- **F1-Score (0.85)**: The harmonic mean of precision and recall, providing a single metric that balances both. This indicates a good balance between precision and recall for real images.\n",
        "- **Support (146)**: The number of true instances of the real class in the test set.\n",
        "\n",
        "#### Class 1 (Fake)\n",
        "- **Precision (0.87)**: Of all the images predicted as fake, 87% were actually fake.\n",
        "- **Recall (0.84)**: Of all the fake images, 84% were correctly identified as fake.\n",
        "- **F1-Score (0.85)**: The harmonic mean of precision and recall for fake images.\n",
        "- **Support (154)**: The number of true instances of the fake class in the test set.\n",
        "\n",
        "### Overall Metrics:\n",
        "- **Accuracy (0.85)**: The ratio of correctly predicted observations to the total observations. An accuracy of 85% means the model correctly classified 85% of the images in the test set.\n",
        "- **Macro Average (0.85)**: The unweighted average of precision, recall, and F1-score for both classes. It treats all classes equally without considering their support.\n",
        "- **Weighted Average (0.85)**: The average of precision, recall, and F1-score, weighted by the number of true instances for each class. It takes class imbalance into account.\n",
        "\n",
        "### Interpretation:\n",
        "- **Balanced Performance**: The precision, recall, and F1-scores are quite balanced between the two classes, indicating that the model performs similarly well for both real and fake images.\n",
        "- **High Accuracy**: An accuracy of 85% is a strong performance metric, suggesting that the model is generally reliable.\n",
        "- **Good Precision and Recall**: Both precision and recall are high for both classes, indicating that the model is good at correctly identifying both real and fake images while minimizing false positives and false negatives."
      ],
      "metadata": {
        "id": "eGmjdap7tmxG"
      }
    },
    {
      "cell_type": "code",
      "source": [
        "from sklearn.metrics import precision_recall_curve, auc\n",
        "\n",
        "# Get scores\n",
        "y_scores = model.predict(X_test_preprocessed)\n",
        "\n",
        "# Compute precision-recall curve\n",
        "precision, recall, _ = precision_recall_curve(y_test, y_scores)\n",
        "pr_auc = auc(recall, precision)\n",
        "\n",
        "# Plot precision-recall curve\n",
        "plt.figure(figsize=(6, 6))\n",
        "plt.plot(recall, precision, marker='.')\n",
        "plt.title(f'Precision-Recall Curve (AUC = {pr_auc:.2f})')\n",
        "plt.xlabel('Recall')\n",
        "plt.ylabel('Precision')\n",
        "plt.show()\n"
      ],
      "metadata": {
        "colab": {
          "base_uri": "https://localhost:8080/",
          "height": 581
        },
        "id": "bvmCw4rvoobX",
        "outputId": "355b4052-b8b0-42a2-be80-87da6d4a04c6"
      },
      "execution_count": null,
      "outputs": [
        {
          "output_type": "stream",
          "name": "stdout",
          "text": [
            "10/10 [==============================] - 0s 19ms/step\n"
          ]
        },
        {
          "output_type": "display_data",
          "data": {
            "text/plain": [
              "<Figure size 600x600 with 1 Axes>"
            ],
            "image/png": "[encoded data removed]"
          },
          "metadata": {}
        }
      ]
    },
    {
      "cell_type": "markdown",
      "source": [
        "Precision-Recall Curve and AUC\n",
        "\n",
        "Precision: The proportion of true positive results in the predicted positives\n",
        "(i.e., how many of the predicted deepfakes are actually deepfakes).\n",
        "\n",
        "Recall (Sensitivity): The proportion of true positive results in all actual positives (i.e., how many of the actual deepfakes were correctly identified by the model).\n",
        "\n",
        "AUC (Area Under the Curve):\n",
        "AUC = 0.93: indicates that the model has a high performance in distinguishing between the classes.An AUC of 0.93 suggests that the model is very good at identifying true positives while maintaining a low rate of false positives"
      ],
      "metadata": {
        "id": "1tUtc27wqHtV"
      }
    },
    {
      "cell_type": "code",
      "source": [
        "# Evaluate the model\n",
        "\"\"\"\n",
        "test_loss, test_accuracy = model.evaluate(X_test_preprocessed, y_test)\n",
        "print(\"Test Accuracy:\", test_accuracy)\n",
        "\"\"\"\n",
        "# Evaluate the model\n",
        "test_loss, test_accuracy, test_precision, test_recall = model.evaluate(X_test_preprocessed, y_test)\n",
        "#test_loss, test_accuracy, test_precision, test_recall = evaluation_results\n",
        "print(f\"Test Accuracy: {test_accuracy}\")\n",
        "print(f\"Test Precision: {test_precision}\")\n",
        "print(f\"Test Recall: {test_recall}\")"
      ],
      "metadata": {
        "colab": {
          "base_uri": "https://localhost:8080/"
        },
        "id": "BR_eZ7fcY0s6",
        "outputId": "2456d52d-8d5b-4c72-c79b-3a2ea63ff567"
      },
      "execution_count": null,
      "outputs": [
        {
          "output_type": "stream",
          "name": "stdout",
          "text": [
            "10/10 [==============================] - 0s 25ms/step - loss: 0.4667 - accuracy: 0.8533 - precision: 0.8716 - recall: 0.8377\n",
            "Test Accuracy: 0.8533333539962769\n",
            "Test Precision: 0.8716216087341309\n",
            "Test Recall: 0.8376623392105103\n"
          ]
        }
      ]
    },
    {
      "cell_type": "markdown",
      "source": [
        "Carrying out predicitions of the video and image"
      ],
      "metadata": {
        "id": "M9EHS43QjK3Y"
      }
    },
    {
      "cell_type": "code",
      "source": [
        "# Function to predict if an image is real or fake\n",
        "def predict_image(image, model):\n",
        "    \"\"\"\n",
        "    {\n",
        "      This function predicts if an image is real or fake\n",
        "\n",
        "      Args :\n",
        "          image_path : The path to the image to be predicted\n",
        "          model : The trained CNN model\n",
        "\n",
        "      Returns :\n",
        "          prediction : The predicted class (real or fake)\n",
        "    }\n",
        "    \"\"\"\n",
        "    img = cv2.resize(image, (224, 224))  # Resize image to target size\n",
        "    img = preprocess_images(np.array([img]))\n",
        "    prediction = model.predict(img)\n",
        "    return \"Real\" if prediction[0][0] < 0.5 else \"Deepfake\""
      ],
      "metadata": {
        "id": "g5pnu9gRUo8s"
      },
      "execution_count": null,
      "outputs": []
    },
    {
      "cell_type": "code",
      "source": [
        "def detect_faces_in_video(video_path, output_path, model):\n",
        "  \"\"\"\n",
        "  Detect faces in a video and save the detected frames to a new video file.\n",
        "\n",
        "  Args:\n",
        "    video_path (str): Path to the input video file.\n",
        "    output_path (str): Path to the output directory where the detected frames will be saved.\n",
        "    model (tf.keras.Model): Trained CNN model.\n",
        "\n",
        "  Returns:\n",
        "    str: The predicted class (real or deepfake) of the video.\n",
        "  \"\"\"\n",
        "  detector = MTCNN()\n",
        "  cap = cv2.VideoCapture(video_path)\n",
        "  frame_count = 0\n",
        "  detected_faces = []\n",
        "  frame_predictions = []\n",
        "\n",
        "  while cap.isOpened() and len(detected_faces) < 10:\n",
        "    print(f\"Frame {frame_count}\")\n",
        "    ret, frame = cap.read()\n",
        "    if not ret:\n",
        "      break\n",
        "\n",
        "    frame_count += 1\n",
        "\n",
        "    # Detect faces in the frame\n",
        "    faces = detector.detect_faces(frame)\n",
        "\n",
        "    if faces:\n",
        "      # Extract the bounding box for the first detected face\n",
        "      x, y, width, height = faces[0]['box']\n",
        "      x, y, abs(x), abs(y)\n",
        "\n",
        "      # Extract the frame from the face\n",
        "      face = frame[y:y+height, x:x+width]\n",
        "      frame_prediction = predict_image(face, model)\n",
        "      frame_predictions.append(frame_prediction)\n",
        "      detected_faces.append(frame)\n",
        "\n",
        "  cap.release()\n",
        "\n",
        "  if detected_faces:\n",
        "    # Save the detected frames to a video file\n",
        "    height, width, layers = detected_faces[0].shape\n",
        "    size = (width, height)\n",
        "    out = cv2.VideoWriter(output_path, cv2.VideoWriter_fourcc(*'mp4v'), 15, size)\n",
        "\n",
        "    for frame in detected_faces:\n",
        "      out.write(frame)\n",
        "    out.release()\n",
        "\n",
        "    # Aggregate Predictions\n",
        "    real_count = frame_predictions.count('Real')\n",
        "    deepfake_count = frame_predictions.count('Deepfake')\n",
        "    result = \"Real\" if real_count > deepfake_count else \"Deepfake\"\n",
        "    return result\n",
        "\n",
        "  else:\n",
        "    return \"No face detected in the video.\""
      ],
      "metadata": {
        "id": "0FOu1QoR8uuW"
      },
      "execution_count": null,
      "outputs": []
    },
    {
      "cell_type": "code",
      "source": [
        "def predict_for_image(image, model):\n",
        "    # Read the image from the file path\n",
        "    img = cv2.imread(image)\n",
        "    if img is None:\n",
        "        raise ValueError(\"Image not found or the path is incorrect.\")\n",
        "    # Resize image to target size\n",
        "    img = cv2.resize(img, (224, 224))\n",
        "    # Preprocess image\n",
        "    img = preprocess_images(np.array([img]))\n",
        "    # Predict\n",
        "    prediction = model.predict(img)\n",
        "    return \"Real\" if prediction[0][0] < 0.5 else \"Deepfake\""
      ],
      "metadata": {
        "id": "alqq109omigU"
      },
      "execution_count": null,
      "outputs": []
    },
    {
      "cell_type": "code",
      "source": [
        "from PIL import Image\n",
        "import io\n",
        "\n",
        "def convert_to_jpg(image_path):\n",
        "    image = Image.open(image_path)\n",
        "    if image.format not in ['JPEG', 'JPG']:\n",
        "        image = image.convert('RGB')\n",
        "        output = io.BytesIO()\n",
        "        image.save(output, format=\"JPEG\")\n",
        "        output.seek(0)\n",
        "        image = Image.open(output)\n",
        "    return image"
      ],
      "metadata": {
        "id": "JR_CEOnlosG1"
      },
      "execution_count": null,
      "outputs": []
    },
    {
      "cell_type": "code",
      "source": [
        "\n",
        "# Example usage: Predict if an image is real or deepfake\n",
        "image_path = '/content/vecteezy_ai-generated-portrait-of-professional-teacher-on-transparent_39612040.png'  # Update with your image path\n",
        "convert = convert_to_jpg(image_path)\n",
        "image = np.array(convert)\n",
        "prediction = predict_for_image(image_path, model)\n",
        "print(\"Prediction:\", prediction)"
      ],
      "metadata": {
        "colab": {
          "base_uri": "https://localhost:8080/"
        },
        "id": "dkzgkawAo1yR",
        "outputId": "3d898e3e-2953-4ad5-a5d9-24435af73c62"
      },
      "execution_count": null,
      "outputs": [
        {
          "output_type": "stream",
          "name": "stdout",
          "text": [
            "1/1 [==============================] - 0s 32ms/step\n",
            "Prediction: Deepfake\n"
          ]
        }
      ]
    },
    {
      "cell_type": "code",
      "source": [
        "video_path = r\"/content/drive/MyDrive/TestReal.mp4\"\n",
        "output_path = r\"/content/drive/MyDrive/DataSet for Deepfake\"\n",
        "result = detect_faces_in_video(video_path, output_path, model)\n",
        "print(result)"
      ],
      "metadata": {
        "id": "gv0XAvc6ZeMc",
        "colab": {
          "base_uri": "https://localhost:8080/"
        },
        "outputId": "213e43ee-e3df-4fd9-dbbd-fd482b32d719"
      },
      "execution_count": null,
      "outputs": [
        {
          "output_type": "stream",
          "name": "stdout",
          "text": [
            "Frame 0\n",
            "1/1 [==============================] - 1s 668ms/step\n",
            "1/1 [==============================] - 0s 289ms/step\n",
            "1/1 [==============================] - 0s 188ms/step\n",
            "1/1 [==============================] - 0s 194ms/step\n",
            "1/1 [==============================] - 0s 197ms/step\n",
            "1/1 [==============================] - 0s 162ms/step\n",
            "1/1 [==============================] - 0s 161ms/step\n",
            "1/1 [==============================] - 0s 158ms/step\n",
            "1/1 [==============================] - 0s 164ms/step\n",
            "1/1 [==============================] - 0s 163ms/step\n",
            "1/1 [==============================] - 0s 161ms/step\n",
            "1/1 [==============================] - 0s 157ms/step\n",
            "4/4 [==============================] - 0s 34ms/step\n",
            "1/1 [==============================] - 0s 247ms/step\n",
            "1/1 [==============================] - 0s 152ms/step\n",
            "Frame 1\n",
            "1/1 [==============================] - 0s 28ms/step\n",
            "1/1 [==============================] - 0s 21ms/step\n",
            "1/1 [==============================] - 0s 25ms/step\n",
            "1/1 [==============================] - 0s 20ms/step\n",
            "1/1 [==============================] - 0s 16ms/step\n",
            "1/1 [==============================] - 0s 17ms/step\n",
            "1/1 [==============================] - 0s 16ms/step\n",
            "1/1 [==============================] - 0s 16ms/step\n",
            "1/1 [==============================] - 0s 15ms/step\n",
            "1/1 [==============================] - 0s 25ms/step\n",
            "1/1 [==============================] - 0s 18ms/step\n",
            "1/1 [==============================] - 0s 16ms/step\n",
            "5/5 [==============================] - 0s 25ms/step\n",
            "1/1 [==============================] - 0s 145ms/step\n",
            "1/1 [==============================] - 0s 18ms/step\n",
            "Frame 2\n",
            "1/1 [==============================] - 0s 25ms/step\n",
            "1/1 [==============================] - 0s 20ms/step\n",
            "1/1 [==============================] - 0s 29ms/step\n",
            "1/1 [==============================] - 0s 17ms/step\n",
            "1/1 [==============================] - 0s 17ms/step\n",
            "1/1 [==============================] - 0s 16ms/step\n",
            "1/1 [==============================] - 0s 17ms/step\n",
            "1/1 [==============================] - 0s 16ms/step\n",
            "1/1 [==============================] - 0s 17ms/step\n",
            "1/1 [==============================] - 0s 16ms/step\n",
            "1/1 [==============================] - 0s 19ms/step\n",
            "1/1 [==============================] - 0s 16ms/step\n",
            "5/5 [==============================] - 0s 26ms/step\n",
            "1/1 [==============================] - 0s 150ms/step\n",
            "1/1 [==============================] - 0s 18ms/step\n",
            "Frame 3\n",
            "1/1 [==============================] - 0s 24ms/step\n",
            "1/1 [==============================] - 0s 21ms/step\n",
            "1/1 [==============================] - 0s 19ms/step\n",
            "1/1 [==============================] - 0s 17ms/step\n",
            "1/1 [==============================] - 0s 17ms/step\n",
            "1/1 [==============================] - 0s 17ms/step\n",
            "1/1 [==============================] - 0s 18ms/step\n",
            "1/1 [==============================] - 0s 17ms/step\n",
            "1/1 [==============================] - 0s 16ms/step\n",
            "1/1 [==============================] - 0s 18ms/step\n",
            "1/1 [==============================] - 0s 23ms/step\n",
            "1/1 [==============================] - 0s 18ms/step\n",
            "5/5 [==============================] - 0s 24ms/step\n",
            "1/1 [==============================] - 0s 141ms/step\n",
            "1/1 [==============================] - 0s 17ms/step\n",
            "Frame 4\n",
            "1/1 [==============================] - 0s 24ms/step\n",
            "1/1 [==============================] - 0s 21ms/step\n",
            "1/1 [==============================] - 0s 18ms/step\n",
            "1/1 [==============================] - 0s 34ms/step\n",
            "1/1 [==============================] - 0s 18ms/step\n",
            "1/1 [==============================] - 0s 17ms/step\n",
            "1/1 [==============================] - 0s 17ms/step\n",
            "1/1 [==============================] - 0s 17ms/step\n",
            "1/1 [==============================] - 0s 17ms/step\n",
            "1/1 [==============================] - 0s 17ms/step\n",
            "1/1 [==============================] - 0s 16ms/step\n",
            "1/1 [==============================] - 0s 16ms/step\n",
            "5/5 [==============================] - 0s 26ms/step\n",
            "1/1 [==============================] - 0s 179ms/step\n",
            "1/1 [==============================] - 0s 26ms/step\n",
            "Frame 5\n",
            "1/1 [==============================] - 0s 30ms/step\n",
            "1/1 [==============================] - 0s 30ms/step\n",
            "1/1 [==============================] - 0s 25ms/step\n",
            "1/1 [==============================] - 0s 29ms/step\n",
            "1/1 [==============================] - 0s 26ms/step\n",
            "1/1 [==============================] - 0s 26ms/step\n",
            "1/1 [==============================] - 0s 39ms/step\n",
            "1/1 [==============================] - 0s 24ms/step\n",
            "1/1 [==============================] - 0s 28ms/step\n",
            "1/1 [==============================] - 0s 25ms/step\n",
            "1/1 [==============================] - 0s 25ms/step\n",
            "1/1 [==============================] - 0s 24ms/step\n",
            "5/5 [==============================] - 0s 44ms/step\n",
            "1/1 [==============================] - 0s 25ms/step\n",
            "1/1 [==============================] - 0s 25ms/step\n",
            "Frame 6\n",
            "1/1 [==============================] - 0s 32ms/step\n",
            "1/1 [==============================] - 0s 30ms/step\n",
            "1/1 [==============================] - 0s 31ms/step\n",
            "1/1 [==============================] - 0s 25ms/step\n",
            "1/1 [==============================] - 0s 33ms/step\n",
            "1/1 [==============================] - 0s 27ms/step\n",
            "1/1 [==============================] - 0s 25ms/step\n",
            "1/1 [==============================] - 0s 26ms/step\n",
            "1/1 [==============================] - 0s 28ms/step\n",
            "1/1 [==============================] - 0s 26ms/step\n",
            "1/1 [==============================] - 0s 26ms/step\n",
            "1/1 [==============================] - 0s 27ms/step\n",
            "4/4 [==============================] - 0s 4ms/step\n",
            "1/1 [==============================] - 0s 29ms/step\n",
            "1/1 [==============================] - 0s 30ms/step\n",
            "Frame 7\n",
            "1/1 [==============================] - 0s 32ms/step\n",
            "1/1 [==============================] - 0s 21ms/step\n",
            "1/1 [==============================] - 0s 19ms/step\n",
            "1/1 [==============================] - 0s 17ms/step\n",
            "1/1 [==============================] - 0s 17ms/step\n",
            "1/1 [==============================] - 0s 17ms/step\n",
            "1/1 [==============================] - 0s 19ms/step\n",
            "1/1 [==============================] - 0s 17ms/step\n",
            "1/1 [==============================] - 0s 23ms/step\n",
            "1/1 [==============================] - 0s 25ms/step\n",
            "1/1 [==============================] - 0s 19ms/step\n",
            "1/1 [==============================] - 0s 16ms/step\n",
            "5/5 [==============================] - 0s 39ms/step\n",
            "1/1 [==============================] - 0s 18ms/step\n",
            "1/1 [==============================] - 0s 17ms/step\n",
            "Frame 8\n",
            "1/1 [==============================] - 0s 24ms/step\n",
            "1/1 [==============================] - 0s 19ms/step\n",
            "1/1 [==============================] - 0s 18ms/step\n",
            "1/1 [==============================] - 0s 21ms/step\n",
            "1/1 [==============================] - 0s 18ms/step\n",
            "1/1 [==============================] - 0s 16ms/step\n",
            "1/1 [==============================] - 0s 16ms/step\n",
            "1/1 [==============================] - 0s 17ms/step\n",
            "1/1 [==============================] - 0s 16ms/step\n",
            "1/1 [==============================] - 0s 16ms/step\n",
            "1/1 [==============================] - 0s 16ms/step\n",
            "1/1 [==============================] - 0s 16ms/step\n",
            "4/4 [==============================] - 0s 52ms/step\n",
            "1/1 [==============================] - 0s 17ms/step\n",
            "1/1 [==============================] - 0s 18ms/step\n",
            "Frame 9\n",
            "1/1 [==============================] - 0s 28ms/step\n",
            "1/1 [==============================] - 0s 19ms/step\n",
            "1/1 [==============================] - 0s 18ms/step\n",
            "1/1 [==============================] - 0s 19ms/step\n",
            "1/1 [==============================] - 0s 17ms/step\n",
            "1/1 [==============================] - 0s 17ms/step\n",
            "1/1 [==============================] - 0s 17ms/step\n",
            "1/1 [==============================] - 0s 16ms/step\n",
            "1/1 [==============================] - 0s 16ms/step\n",
            "1/1 [==============================] - 0s 16ms/step\n",
            "1/1 [==============================] - 0s 16ms/step\n",
            "1/1 [==============================] - 0s 16ms/step\n",
            "5/5 [==============================] - 0s 3ms/step\n",
            "1/1 [==============================] - 0s 17ms/step\n",
            "1/1 [==============================] - 0s 17ms/step\n",
            "Real\n"
          ]
        }
      ]
    },
    {
      "cell_type": "code",
      "source": [
        "model.save(\"Streamlit_Application_for_DeepFake.h5\")"
      ],
      "metadata": {
        "id": "Dz_DwfnXPYvs",
        "colab": {
          "base_uri": "https://localhost:8080/"
        },
        "outputId": "d7a7dc38-457a-4bfb-8c37-cf441b450442"
      },
      "execution_count": null,
      "outputs": [
        {
          "output_type": "stream",
          "name": "stderr",
          "text": [
            "/usr/local/lib/python3.10/dist-packages/keras/src/engine/training.py:3103: UserWarning: You are saving your model as an HDF5 file via `model.save()`. This file format is considered legacy. We recommend using instead the native Keras format, e.g. `model.save('my_model.keras')`.\n",
            "  saving_api.save_model(\n"
          ]
        }
      ]
    },
    {
      "cell_type": "code",
      "source": [],
      "metadata": {
        "id": "TSEWaSnLuXoo"
      },
      "execution_count": null,
      "outputs": []
    }
  ]
}